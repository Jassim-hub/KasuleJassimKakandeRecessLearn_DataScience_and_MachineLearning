{
 "cells": [
  {
   "cell_type": "code",
   "execution_count": null,
   "id": "b6b68887",
   "metadata": {},
   "outputs": [],
   "source": [
    "#Training and validation loss-These are metrics that indicate how well the model is learning.\n",
    "\n",
    "#The loss represents the difference between the predicted output and the actual output.(actual target value)\n",
    "#Training loss or error -refers to the error on the data that the model was trained on.\n",
    "#Validationloss is the error on unseen data, used to evaluate the model's performance during training.\n",
    "\n",
    "#Key points on trainig loss:\n",
    "# 1.Directly affects weight adjustments in th model\n",
    "# 2.Provide insights into how well the model fits the training data\n",
    "\n",
    "#Common Training loss features:\n",
    "#Mean Squared Error (MSE)\n",
    "#cross-entropy loss\n",
    "\n",
    "#Validation error:\n",
    "#Key points on validation loss:\n",
    "#1.Helps in assessing the model's generalization ability\n",
    "#2.Used as a criterion for early stopping to prevent overfitting.(If validation error is much higher than training error then the model is overfitting)\n",
    "#Underfitting occurs when the model is too simple to capture the underlying patterns in the data, leading to high training and validation losses.\n",
    "\n",
    "#Relevance of training both losses:\n",
    "#An epoch is a complete pass through the entire training dataset.\n",
    "#Training loss is calculated after each epoch, and it provides an indication of how well the model is learning from the training data.\n",
    "#Batch size is the number of training examples utilized in one iteration.\n",
    "#Variance refers to the model's sensitivity to fluctuations in the training data.\n",
    "#Overfitting occurs when the model learns the training data too well, including its noise and outliers, leading to poor generalization on unseen data.\n",
    "#Preprocessing techniques like normalization and data augmentation can help improve model performance by ensuring that the input data is in a suitable format and by increasing the diversity of the training data.\n",
    "\n",
    "#To learn Django and TensorFlow frameworks\n",
    "#TensorFlow is a powerful open-source library for numerical computation and machine learning, widely used for building and training deep learning models.(It is a machine learning framework)\n",
    "\n",
    "#properties;\n",
    "#It is open-source and has a large community support.\n",
    "#Flexible\n",
    "#Makes building models easier,faster and more reproducible.\n",
    "#It supports both CPU and GPU computation, making it suitable for large-scale machine learning tasks."
   ]
  },
  {
   "cell_type": "code",
   "execution_count": null,
   "id": "77711e71",
   "metadata": {},
   "outputs": [],
   "source": []
  }
 ],
 "metadata": {
  "kernelspec": {
   "display_name": "myenv",
   "language": "python",
   "name": "python3"
  },
  "language_info": {
   "name": "python",
   "version": "3.10.0"
  }
 },
 "nbformat": 4,
 "nbformat_minor": 5
}
