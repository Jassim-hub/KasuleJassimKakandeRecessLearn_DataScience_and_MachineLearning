{
 "cells": [
  {
   "cell_type": "code",
   "execution_count": 1,
   "id": "29684d5d",
   "metadata": {},
   "outputs": [],
   "source": [
    "# Unsupervised learning\n",
    "# What is unsupervised learning?unlabelled data,Unstructured data\n",
    "#Install required libraries\n",
    "#seaborn and scikit-learn\n",
    "import seaborn as sns\n",
    "import matplotlib.pyplot as plt\n",
    "import pandas as pd\n",
    "from sklearn.cluster import KMeans"
   ]
  },
  {
   "cell_type": "code",
   "execution_count": null,
   "id": "e25c336e",
   "metadata": {},
   "outputs": [],
   "source": [
    "#Load a dataset or create a dataset\n",
    "data={}"
   ]
  }
 ],
 "metadata": {
  "kernelspec": {
   "display_name": "myenv",
   "language": "python",
   "name": "python3"
  },
  "language_info": {
   "codemirror_mode": {
    "name": "ipython",
    "version": 3
   },
   "file_extension": ".py",
   "mimetype": "text/x-python",
   "name": "python",
   "nbconvert_exporter": "python",
   "pygments_lexer": "ipython3",
   "version": "3.10.0"
  }
 },
 "nbformat": 4,
 "nbformat_minor": 5
}
